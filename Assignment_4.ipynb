{
 "cells": [
  {
   "cell_type": "markdown",
   "metadata": {
    "id": "0AUwbFEaMiWi"
   },
   "source": [
    "# COMP7404 - Assignment 4\n",
    "\n",
    "## Part A: Conceptual Questions\n",
    "\n",
    "Solve the following questions by hand. No need to implement any code.\n"
   ]
  },
  {
   "cell_type": "markdown",
   "metadata": {
    "id": "Zkb0whVuM2Wc"
   },
   "source": [
    "### A1\n",
    "Consider a Perceptron with 2 inputs and 1 output. Let the weights of the Perceptron be $w_1 = 1$ and $w_2 = 1$ and let the bias be $w_0 = -1.5$. Calculate the output of the following inputs:(0, 0), (1, 0), (0, 1), (1, 1)"
   ]
  },
  {
   "cell_type": "markdown",
   "metadata": {
    "id": "MtGUikOfOYyI"
   },
   "source": [
    "*Answer:*   \n",
    "Here I define a decision function  $\\begin{equation}\n",
    "\\phi (z)=\\left\\{\n",
    "\\begin{array}{rcl}\n",
    "1 & & {if z \\ge \\theta}\\\\\n",
    "-1 & & {otherwise}\n",
    "\\end{array} \\right.\n",
    "\\end{equation}$  \n",
    "where I set threshold $\\theta$ as 0.  \n",
    "So the outputs of the given inputs are calculated as following  \n",
    "$z^{(0)}=1*0+1*0+(-1.5)*1=-1.5$   \n",
    "$z^{(1)}=1*1+1*0+(-1.5)*1=-0.5$   \n",
    "$z^{(2)}=1*0+1*1+(-1.5)*1=-0.5$   \n",
    "$z^{(3)}=1*1+1*1+(-1.5)*1=0.5$   \n",
    "$output^{(0)}=\\phi(z^{(0)})=-1$  \n",
    "$output^{(1)}=\\phi(z^{(1)})=-1$  \n",
    "$output^{(2)}=\\phi(z^{(2)})=-1$  \n",
    "$output^{(3)}=\\phi(z^{(3)})=1$ \n"
   ]
  },
  {
   "cell_type": "markdown",
   "metadata": {
    "id": "BtvkvUDHOb9o"
   },
   "source": [
    "### A2\n",
    "Define a perceptron for the following logical functions: AND, NOT, NAND, NOR\n"
   ]
  },
  {
   "cell_type": "markdown",
   "metadata": {
    "id": "v3_Se0meOqxQ"
   },
   "source": [
    "*Answer:*    \n",
    "Here I define the decision function $\\begin{equation}\n",
    "\\phi (z)=\\left\\{\n",
    "\\begin{array}{rcl}\n",
    "1 & & {if z \\ge \\theta}\\\\\n",
    "-1 & & {otherwise}\n",
    "\\end{array} \\right.\n",
    "\\end{equation}$  \n",
    "\n",
    "**AND**: let the weights of perceptron be $w_1=0.5$ and $w_2=0.5$, let the bias be $w_0=-0.7$ and let therashold $\\theta=0$  \n",
    "**NOT**: because this logical function only need one input, so let the weights of perceptron be $w_1=1$ and , let the bias be $w_0=-0.5$ and let therashold be $\\theta=0$  \n",
    "**NAND**: let the weights of perceptron be $w_1=-0.5$ and $w_2=-0.5$, let the bias be $w_0=0.7$ and let therashold be $\\theta=0$  \n",
    "**NOR**: let the weights of perceptron be $w_1=-1$ and $w_2=-1$, let the bias be $w_0=0.5$ and let therashold be $\\theta=0$  "
   ]
  },
  {
   "cell_type": "markdown",
   "metadata": {
    "id": "oDwHHY3KSjEh"
   },
   "source": [
    "### A3\n",
    "The parity problem returns 1 if the number of inputs that are 1 is even, and 0 otherwise. Can a perceptron learn this problem for 3 inputs? \n"
   ]
  },
  {
   "cell_type": "markdown",
   "metadata": {
    "id": "VLxZod0-Stj6"
   },
   "source": [
    "*Answer:*  \n",
    "This problem cannot be learned by a perceptron.  \n",
    "Because I list the truth table of this problem and visulize it. Then we can find that the two classes are not linearly separable. So the convergence of the perceptron cannot be graranteed."
   ]
  },
  {
   "cell_type": "markdown",
   "metadata": {
    "id": "SMGxkXbSSwo_"
   },
   "source": [
    "### A4\n",
    "Suppose that the following are a set of point in two classes:\n",
    "\n",
    "*   Class1: $(1, 1), (1, 2), (2, 1)$\n",
    "*   Class2: $(0, 0), (1, 0), (0, 1)$\n",
    "\n",
    "Plot them and find the optimal separating line. What are the support vectors, and what is the meaning?\n"
   ]
  },
  {
   "cell_type": "markdown",
   "metadata": {},
   "source": [
    "*Answer:*  \n",
    "I use matplotlib library to plot the given points as following figure. And the green line represents the optimal separating line.  \n",
    "The support vectors are (0,1),(1,0),(1,1).  \n",
    "The distance between support vectors and the optimal hyperplane is the cloest. And the support vectors decide the parameters of the optimal hyperplane."
   ]
  },
  {
   "cell_type": "code",
   "execution_count": 48,
   "metadata": {
    "id": "xjhx822xSjEj"
   },
   "outputs": [
    {
     "data": {
      "image/png": "[encoded data removed]",
      "text/plain": [
       "<Figure size 432x288 with 1 Axes>"
      ]
     },
     "metadata": {
      "needs_background": "light"
     },
     "output_type": "display_data"
    }
   ],
   "source": [
    "import numpy as np\n",
    "import matplotlib.pyplot as plt\n",
    "X = np.array([[1,1],[1,2],[2,1],[0,0],[1,0],[0,1]])\n",
    "plt.scatter(X[:3,0], X[:3,1], color='red', marker='o', label='Class 1')\n",
    "plt.scatter(X[3:,0], X[3:,1], color='blue', marker='x', label='Class 2')\n",
    "x = np.linspace(0,1.5,5)\n",
    "y = -x+1.5\n",
    "plt.plot(x,y,color='green', linestyle='--', linewidth=3, label='boundary')\n",
    "plt.legend(loc='upper right')\n",
    "plt.show()"
   ]
  },
  {
   "cell_type": "markdown",
   "metadata": {
    "id": "kRke2doCTRWw"
   },
   "source": [
    "### A5\n",
    "Suppose that the probability of five events are $P(first) = 0.5, P(second) = P(third) = P(fourth) = P(fifth) = 0.125$. Calculate the entropy and write down in words what this means. \n"
   ]
  },
  {
   "cell_type": "code",
   "execution_count": 44,
   "metadata": {
    "id": "1g_IC4sbTRdt"
   },
   "outputs": [
    {
     "name": "stdout",
     "output_type": "stream",
     "text": [
      "entropy is 2.0\n"
     ]
    }
   ],
   "source": [
    "import math\n",
    "p_list = [0.5, 0.125, 0.125, 0.125, 0.125]\n",
    "def entropy(p_list):\n",
    "    entropy = 0\n",
    "    for p in p_list:\n",
    "        entropy += p * math.log(p,2)\n",
    "    entropy = -entropy\n",
    "    print(\"entropy is\", entropy)\n",
    "    return entropy\n",
    "entropy = entropy(p_list)"
   ]
  },
  {
   "cell_type": "markdown",
   "metadata": {
    "id": "4Ug_a4eETjq9"
   },
   "source": [
    "### A6\n",
    "Design a decision tree that computes the logical AND function. How does it compare to the Perceptron solution?"
   ]
  },
  {
   "cell_type": "markdown",
   "metadata": {
    "id": "HONNlWWETj49"
   },
   "source": [
    "*Answer:*  \n",
    "Here I define the logical AND function: A AND B.   \n",
    "On the root node, I split the data according to \"A == True\"\n",
    "1. Left node(A != True):  the labels of data on left node are all False.\n",
    "2. Right node(A == True): then split the data according to \"B == True\"  \n",
    "    2.1. Left node(B != True): the labels of data on left node are all False.  \n",
    "    2.2. Right node(B == True): the labels of data on right node are all True.  \n",
    "\n",
    "Perceptron needs to update weights vectors until convergence during training. While decision tree just makes a test to classify the data with different features."
   ]
  },
  {
   "cell_type": "markdown",
   "metadata": {
    "id": "q-aMRB0VTs-e"
   },
   "source": [
    "### A7\n",
    "Turn the following politically incorrect data into a decision tree to classify which attributes make a person attractive, and then extract the rules. Use the Gini Impurity.\n",
    "\n",
    "| Height  | Hair  | Eyes  | Attractive?  |\n",
    "|:-:|:-:|:-:|:-:|\n",
    "| Small  | Blonde  | Brown  | No  |\n",
    "| Tall  | Dark  | Brown  | No  |\n",
    "| Tall  | Blonde  | Blue  | Yes  |\n",
    "| Tall  | Dark  | Blue  | No  |\n",
    "| Small  | Dark  | Blue  | No  |\n",
    "| Tall  | Red  | Blue  | Yes  |\n",
    "| Tall  | Blonde  | Brown  | No  |\n",
    "| Small  | Blonde  | Blue  | Yes  |\n"
   ]
  },
  {
   "cell_type": "markdown",
   "metadata": {
    "id": "_Zi8zFnrUk6R"
   },
   "source": [
    "*Answer:*   \n",
    "First of all, calculate the gini impurity of the data on the root node:  \n",
    "$I_G(D_{root}) = 1-[(\\frac{3}{8})^2+(\\frac{5}{8})^2]=0.46875$  \n",
    "1. Here I split the data according to each feature, then calculate the information gain:  \n",
    "    - if choose the feature \"Height\" to split the root node  \n",
    "        - Height == Tall: $I_G(D_{left}) = 1-[(\\frac{2}{5})^2+(\\frac{3}{5})^2]=0.48$   \n",
    "        - Height == Small: $I_G(D_{right}) = 1-[(\\frac{1}{3})^2+(\\frac{2}{3})^2]=0.4444$  \n",
    "        - $IG_{height} = I_G(D_{root})-\\frac{5}{8}*I_G(D_{left})-\\frac{3}{8}*I_G(D_{right})=0.0021$  \n",
    "    - if choose the feature \"Hair\" to split the root node  \n",
    "        - Hair == Blonde: $I_G(D_{left}) = 1-[(\\frac{1}{2})^2+(\\frac{1}{2})^2]=0.5$  \n",
    "        - Hair == Dark: $I_G(D_{middle}) = 1-1=0$  \n",
    "        - Hair == Red: $I_G(D_{right}) = 1-1=0$\n",
    "        - $IG_{hair} = I_G(D_{root})-\\frac{1}{2}*I_G(D_{left})-\\frac{3}{8}*I_G(D_{middle})-\\frac{1}{8}*I_G(D_{right})=0.21875$  \n",
    "    - if choose \"Eyes == Blue\" to split the root node   \n",
    "        - $I_G(D_{left}) = 1-[(\\frac{3}{5})^2+(\\frac{2}{5})^2]=0.48$  \n",
    "        - $I_G(D_{right}) = 1 - 1=0$  \n",
    "        - $IG_{eyes} = I_G(D_{root})-\\frac{5}{8}*I_G(D_{left})-\\frac{3}{8}*I_G(D_{right})=0.16875$  \n",
    "    In order to maximize the information gain, I choose feature \"Hair\" to split data on the root node.  \n",
    "2. Then continue spliting the data which \"Hair == Blonde\" on the left node to maximize the information gain:\n",
    "    - if choose the feature \"Height\" to split the left node  \n",
    "        - $I_G(D_{left}) = 1-[(\\frac{1}{2})^2+(\\frac{1}{2})^2]=0.5$  \n",
    "        - $I_G(D_{right}) = 1-[(\\frac{1}{2})^2+(\\frac{1}{2})^2]=0.5$  \n",
    "        - $IG_{height} = I_G(D_{eyes})-\\frac{1}{2}*I_G(D_{left})-\\frac{1}{2}*I_G(D_{right})=0$  \n",
    "    - if choose the feature \"Eyes\" to split the left node  \n",
    "        - $I_G(D_{left}) = 1-1=0$  \n",
    "        - $I_G(D_{right}) = 1-1=0$  \n",
    "        - $IG_{hair} = I_G(D_{eyes})-\\frac{2}{5}*I_G(D_{left})-\\frac{3}{5}*I_G(D_{right})=0.5$   \n",
    "    In order to maxmize the information gain, I choose the feature \"Eyes\" to split data on the left node.  \n",
    "    \n",
    " In conclusion, people with blue eyes but not dark hair are attractive."
   ]
  },
  {
   "cell_type": "markdown",
   "metadata": {
    "id": "Knh_aBKPUmyl"
   },
   "source": [
    "### A8\n",
    "Suppose we collect data for a group of students in a postgraduate machine learning class with features $x_1$ = hours studies, $x_2$ = undergraduate GPA and label $y$ = receive an A. We fit a logistic regression and produce estimated weights as follows: $w_0 = -6$, $w_1 = 0.05$, $w_2 = 1$.\n",
    "\n",
    "1.  Estimate the probability that a student who studies for 40h and has an undergraduate GPA of 3.5 gets an A in the class\n",
    "2.  How many hours would the student in part 1. need to study to have a 50% chance of getting an A in the class?"
   ]
  },
  {
   "cell_type": "markdown",
   "metadata": {
    "id": "fjyKfm1KW-8b"
   },
   "source": [
    "**Q1**  \n",
    "$probability = \\phi(w_1*x_1+w_2*x_2+w_0*1) = \\phi(0.05*40+1*3.5-6) = \\frac{1}{1+e^{0.5}}=0.37754$  \n",
    "So the probability is about 37.75%.  \n",
    "**Q2**  \n",
    "$probability = \\phi(w_1*x_1+w_2*x_2+w_0*1) = \\phi(0.05*x_1+1*3.5-6) = \\frac{1}{1+e^{-0.05*x_1+2.5}}= 0.5$  \n",
    "So we can solve this equation and get the hours studies $x_1=50$,"
   ]
  },
  {
   "cell_type": "markdown",
   "metadata": {
    "id": "GXfA8H0PXBUW"
   },
   "source": [
    "### A9\n",
    "Suppose that we take a data set, divide it into equally-sized training and test sets, and then try out two different classification procedures. First we use logistic regression and get an error rate of 20% on the training data and 30% on the test data. Next we use 1-nearest neighbors (i.e., K=1) and get an average error rate (averaged over both test and training data sets) of 18%. Based on these results, which method should we prefer to use for classification of new observations? Why?"
   ]
  },
  {
   "cell_type": "markdown",
   "metadata": {
    "id": "TPLLkUruXH7s"
   },
   "source": [
    "*Answer:*  \n",
    "For KNN with k=1, the training error rate is 0 for all the training data will be classified correctly. However, this KNN model has an average error rate of 18% wich implies a test error rate of 36% on test sets. So we should choose the First classification procedure with logistic regression because the test error rate is less than that of KNN."
   ]
  },
  {
   "cell_type": "markdown",
   "metadata": {
    "id": "t9C3HzscGJRK"
   },
   "source": [
    "### A10\n",
    "\n",
    "Suppose the features in your training set have very different scales. Which algorithms discussed in class might suffer from this, and how? What can you do about it?\n"
   ]
  },
  {
   "cell_type": "markdown",
   "metadata": {
    "id": "vOldZMVsGMq4"
   },
   "source": [
    "*Answer:*  \n",
    "The Gradient Descent suffers from features of different scales.  \n",
    "If the features in training set have very different scales, the cost function will have the shape of an elongated bowl, so the Gradient Descent algorithms will take a long time to converge.  \n",
    "To solve this problem, we can use Batch Normalization to scale the training data or just use Normal Equation without scaling."
   ]
  },
  {
   "cell_type": "markdown",
   "metadata": {
    "id": "v6_-anGK53ee"
   },
   "source": [
    "### A11\n",
    "\n",
    "\n",
    "If your AdaBoost ensemble underfits the training data, which hyperparameters should you tweak and how?"
   ]
  },
  {
   "cell_type": "markdown",
   "metadata": {
    "id": "nAnz6reT6utg"
   },
   "source": [
    "*Answer:*  \n",
    "1. Increase the number of estimators(base decision trees).\n",
    "2. Reduce the regularization hyperparameters of the base estimator.\n",
    "3. Increasing the learning rate slightly."
   ]
  },
  {
   "cell_type": "markdown",
   "metadata": {
    "id": "fsIKbwXx6f6m"
   },
   "source": [
    "### A12\n",
    "\n",
    "What is the benefit of out-of-bag evaluation?"
   ]
  },
  {
   "cell_type": "markdown",
   "metadata": {
    "id": "eotzI3zY6vaj"
   },
   "source": [
    "*Answer:*  \n",
    "Out-of-bag evaluation allows each predictor in a bagging ensemble to be evaluated using instances that it was not trained on (the remaining instances after bootstrap selecting). This makes it possible to have a fairly unbiased evaluation of the ensemble without an additional validation set. Thus, we can have more instances available for training to make our model slightly better."
   ]
  },
  {
   "cell_type": "markdown",
   "metadata": {
    "id": "t5YVqiMV6ml2"
   },
   "source": [
    "### A13\n",
    "\n",
    "What is the difference between hard and soft voting classifiers?"
   ]
  },
  {
   "cell_type": "markdown",
   "metadata": {
    "id": "GrAU8kT-6v5-"
   },
   "source": [
    "*Answer:*  \n",
    "A hard voting classifier just counts the votes of each classifier in the ensemble and picks the class that gets the most votes.\n",
    "A soft voting classifier computes the average estimated class probability for each class then picks the class with the highest probability."
   ]
  },
  {
   "cell_type": "markdown",
   "metadata": {
    "id": "uOViY3z7XoZR"
   },
   "source": [
    "## Part B: Applied Questions\n",
    "\n",
    "Solve the following questions implementing solutions in code."
   ]
  },
  {
   "cell_type": "markdown",
   "metadata": {
    "id": "JkYvVa5pXuCQ"
   },
   "source": [
    "### B1\n",
    "Consider the following Perceptron code."
   ]
  },
  {
   "cell_type": "code",
   "execution_count": 66,
   "metadata": {
    "id": "_NRaSwsgZyfE"
   },
   "outputs": [],
   "source": [
    "import numpy as np\n",
    "\n",
    "class Perceptron(object):\n",
    "    \"\"\"Perceptron classifier.\n",
    "\n",
    "    Parameters\n",
    "    ------------\n",
    "    eta : float\n",
    "        Learning rate (between 0.0 and 1.0)\n",
    "    n_iter : int\n",
    "        Passes over the training dataset.\n",
    "\n",
    "    Attributes\n",
    "    -----------\n",
    "    w_ : 1d-array\n",
    "        Weights after fitting.\n",
    "    errors_ : list\n",
    "        Number of misclassifications in every epoch.\n",
    "\n",
    "    \"\"\"\n",
    "    def __init__(self, eta=0.01, n_iter=10):\n",
    "        self.eta = eta\n",
    "        self.n_iter = n_iter\n",
    "\n",
    "    def fit(self, X, y):\n",
    "        \"\"\"Fit training data.\n",
    "\n",
    "        Parameters\n",
    "        ----------\n",
    "        X : {array-like}, shape = [n_samples, n_features]\n",
    "            Training vectors, where n_samples is the number of samples and\n",
    "            n_features is the number of features.\n",
    "        y : array-like, shape = [n_samples]\n",
    "            Target values.\n",
    "\n",
    "        Returns\n",
    "        -------\n",
    "        self : object\n",
    "\n",
    "        \"\"\"\n",
    "        self.w_ = np.zeros(1 + X.shape[1])\n",
    "        self.errors_ = []\n",
    "\n",
    "        for _ in range(self.n_iter):\n",
    "            errors = 0\n",
    "            for xi, target in zip(X, y):\n",
    "                update = self.eta * (target - self.predict(xi))\n",
    "                self.w_[1:] += update * xi\n",
    "                self.w_[0] += update\n",
    "                errors += int(update != 0.0)\n",
    "            self.errors_.append(errors)\n",
    "        return self\n",
    "\n",
    "    def net_input(self, X):\n",
    "        \"\"\"Calculate net input\"\"\"\n",
    "        return np.dot(X, self.w_[1:]) + self.w_[0]\n",
    "\n",
    "    def predict(self, X):\n",
    "        \"\"\"Return class label after unit step\"\"\"\n",
    "        return np.where(self.net_input(X) >= 0.0, 1, -1)"
   ]
  },
  {
   "cell_type": "code",
   "execution_count": 67,
   "metadata": {
    "colab": {
     "base_uri": "https://localhost:8080/",
     "height": 204
    },
    "id": "PRJvrJB3aAYP",
    "outputId": "c116c928-924c-4675-8012-ffb87f354414"
   },
   "outputs": [
    {
     "data": {
      "text/html": [
       "<div>\n",
       "<style scoped>\n",
       "    .dataframe tbody tr th:only-of-type {\n",
       "        vertical-align: middle;\n",
       "    }\n",
       "\n",
       "    .dataframe tbody tr th {\n",
       "        vertical-align: top;\n",
       "    }\n",
       "\n",
       "    .dataframe thead th {\n",
       "        text-align: right;\n",
       "    }\n",
       "</style>\n",
       "<table border=\"1\" class=\"dataframe\">\n",
       "  <thead>\n",
       "    <tr style=\"text-align: right;\">\n",
       "      <th></th>\n",
       "      <th>0</th>\n",
       "      <th>1</th>\n",
       "      <th>2</th>\n",
       "      <th>3</th>\n",
       "      <th>4</th>\n",
       "    </tr>\n",
       "  </thead>\n",
       "  <tbody>\n",
       "    <tr>\n",
       "      <th>145</th>\n",
       "      <td>6.7</td>\n",
       "      <td>3.0</td>\n",
       "      <td>5.2</td>\n",
       "      <td>2.3</td>\n",
       "      <td>Iris-virginica</td>\n",
       "    </tr>\n",
       "    <tr>\n",
       "      <th>146</th>\n",
       "      <td>6.3</td>\n",
       "      <td>2.5</td>\n",
       "      <td>5.0</td>\n",
       "      <td>1.9</td>\n",
       "      <td>Iris-virginica</td>\n",
       "    </tr>\n",
       "    <tr>\n",
       "      <th>147</th>\n",
       "      <td>6.5</td>\n",
       "      <td>3.0</td>\n",
       "      <td>5.2</td>\n",
       "      <td>2.0</td>\n",
       "      <td>Iris-virginica</td>\n",
       "    </tr>\n",
       "    <tr>\n",
       "      <th>148</th>\n",
       "      <td>6.2</td>\n",
       "      <td>3.4</td>\n",
       "      <td>5.4</td>\n",
       "      <td>2.3</td>\n",
       "      <td>Iris-virginica</td>\n",
       "    </tr>\n",
       "    <tr>\n",
       "      <th>149</th>\n",
       "      <td>5.9</td>\n",
       "      <td>3.0</td>\n",
       "      <td>5.1</td>\n",
       "      <td>1.8</td>\n",
       "      <td>Iris-virginica</td>\n",
       "    </tr>\n",
       "  </tbody>\n",
       "</table>\n",
       "</div>"
      ],
      "text/plain": [
       "       0    1    2    3               4\n",
       "145  6.7  3.0  5.2  2.3  Iris-virginica\n",
       "146  6.3  2.5  5.0  1.9  Iris-virginica\n",
       "147  6.5  3.0  5.2  2.0  Iris-virginica\n",
       "148  6.2  3.4  5.4  2.3  Iris-virginica\n",
       "149  5.9  3.0  5.1  1.8  Iris-virginica"
      ]
     },
     "execution_count": 67,
     "metadata": {},
     "output_type": "execute_result"
    }
   ],
   "source": [
    "import pandas as pd\n",
    "\n",
    "data_src = 'https://archive.ics.uci.edu/ml/machine-learning-databases/iris/iris.data'\n",
    "\n",
    "df = pd.read_csv(data_src, header=None)\n",
    "\n",
    "df.tail()"
   ]
  },
  {
   "cell_type": "code",
   "execution_count": 68,
   "metadata": {
    "colab": {
     "base_uri": "https://localhost:8080/",
     "height": 297
    },
    "id": "L_AlboxFaByl",
    "outputId": "66466f9b-c6d2-4d90-c57c-4ad08d4e8234"
   },
   "outputs": [
    {
     "data": {
      "image/png": "[encoded data removed]",
      "text/plain": [
       "<Figure size 432x288 with 1 Axes>"
      ]
     },
     "metadata": {
      "needs_background": "light"
     },
     "output_type": "display_data"
    }
   ],
   "source": [
    "%matplotlib inline\n",
    "import matplotlib.pyplot as plt\n",
    "import numpy as np\n",
    "\n",
    "# select setosa and versicolor\n",
    "y = df.iloc[0:100, 4].values\n",
    "y = np.where(y == 'Iris-setosa', -1, 1)\n",
    "\n",
    "# extract sepal length and petal length\n",
    "X = df.iloc[0:100, [0, 2]].values\n",
    "\n",
    "# plot data\n",
    "plt.scatter(X[:50, 0], X[:50, 1],\n",
    "            color='red', marker='o', label='setosa')\n",
    "plt.scatter(X[50:100, 0], X[50:100, 1],\n",
    "            color='blue', marker='x', label='versicolor')\n",
    "\n",
    "plt.xlabel('sepal length [cm]')\n",
    "plt.ylabel('petal length [cm]')\n",
    "plt.legend(loc='upper left')\n",
    "\n",
    "plt.tight_layout()\n",
    "plt.show()"
   ]
  },
  {
   "cell_type": "code",
   "execution_count": 69,
   "metadata": {
    "id": "skqFfQamaDI3"
   },
   "outputs": [],
   "source": [
    "ppn = Perceptron(eta=0.1, n_iter=10)\n",
    "ppn = ppn.fit(X, y)"
   ]
  },
  {
   "cell_type": "code",
   "execution_count": 70,
   "metadata": {
    "id": "ydG8Th6LaFEh"
   },
   "outputs": [],
   "source": [
    "from matplotlib.colors import ListedColormap\n",
    "\n",
    "from matplotlib.colors import ListedColormap\n",
    "def plot_decision_regions(X, y, classifier, resolution=0.01):\n",
    "    markers = ('s', 'x', 'o', '^', 'v')\n",
    "    colors = ('red', 'blue', 'lightgreen', 'gray', 'cyan')\n",
    "    cmap = ListedColormap(colors[:len(np.unique(y))])\n",
    "    x1_min, x1_max = X[:, 0].min() - 1, X[:, 0].max() + 1\n",
    "    x2_min, x2_max = X[:, 1].min() - 1, X[:, 1].max() + 1\n",
    "    xx1, xx2 = np.meshgrid(np.arange(x1_min, x1_max, resolution),\n",
    "                           np.arange(x2_min, x2_max, resolution))\n",
    "    Z = classifier.predict(np.array([xx1.ravel(), xx2.ravel()]).T)\n",
    "    Z = Z.reshape(xx1.shape)\n",
    "    plt.contourf(xx1, xx2, Z, alpha=0.3, cmap=cmap)\n",
    "    plt.xlim(xx1.min(), xx1.max())\n",
    "    plt.ylim(xx2.min(), xx2.max())\n",
    "    for idx, cl in enumerate(np.unique(y)):\n",
    "        plt.scatter(x=X[y == cl, 0], \n",
    "                    y=X[y == cl, 1],\n",
    "                    alpha=0.8, \n",
    "                    c=colors[idx],\n",
    "                    marker=markers[idx], \n",
    "                    label=cl, \n",
    "                    edgecolor='black')"
   ]
  },
  {
   "cell_type": "markdown",
   "metadata": {
    "id": "8wEkoJNTaHVw"
   },
   "source": [
    "As shown in function plot_decision_regions, the decision regions can be visualized by dense sampling via meshgrid. However, if the grid resolution is not enough, as artificially set below, the boundary will appear inaccurate.\n",
    "\n",
    "Implement function plot_decision_boundary below to analytically compute and plot the decision boundary."
   ]
  },
  {
   "cell_type": "code",
   "execution_count": 71,
   "metadata": {
    "id": "ETZTKgflaJ-P"
   },
   "outputs": [],
   "source": [
    "def plot_decision_boundary(X, y, classifier):    \n",
    "    \n",
    "    # replace the two lines below with your code\n",
    "    # boundary is: w1*x1+w2*x2+w0=0\n",
    "    x1_interval = [X[:, 0].min() - 1, X[:, 0].max() + 1]\n",
    "    w=classifier.w_\n",
    "    x2_interval = [-(w[0]+w[1]*x1_interval[0])/w[2], -(w[0]+w[1]*x1_interval[1])/w[2]]\n",
    "    plt.plot(x1_interval, x2_interval, color='green', linewidth=4, label='boundary')"
   ]
  },
  {
   "cell_type": "code",
   "execution_count": 72,
   "metadata": {
    "colab": {
     "base_uri": "https://localhost:8080/",
     "height": 297
    },
    "id": "3MpX2DdFaLbJ",
    "outputId": "43910980-9230-4c64-8ed0-9cdbfd1c181c"
   },
   "outputs": [
    {
     "data": {
      "image/png": "[encoded data removed]",
      "text/plain": [
       "<Figure size 432x288 with 1 Axes>"
      ]
     },
     "metadata": {
      "needs_background": "light"
     },
     "output_type": "display_data"
    }
   ],
   "source": [
    "low_res = 0.1 # intentional for this exercise\n",
    "plot_decision_regions(X, y, classifier=ppn, resolution=low_res)\n",
    "plot_decision_boundary(X, y, classifier=ppn)\n",
    "plt.xlabel('sepal length [cm]')\n",
    "plt.ylabel('petal length [cm]')\n",
    "plt.legend(loc='upper left')\n",
    "plt.tight_layout()\n",
    "plt.show()"
   ]
  },
  {
   "cell_type": "markdown",
   "metadata": {
    "id": "s9RyhbgDaXSh"
   },
   "source": [
    "### B2\n",
    "\n",
    "In class we applied different scikit-learn classifers for the Iris data set.\n",
    "\n",
    "In this question, we will apply the same set of classifiers over a different data set: hand-written digits.\n",
    "Please write down the code for different classifiers, choose their hyper-parameters, and compare their performance via the accuracy score as in the Iris dataset.\n",
    "Which classifier(s) perform(s) the best and worst, and why?\n",
    "\n",
    "The classifiers include:\n",
    "* perceptron\n",
    "* logistic regression\n",
    "* SVM\n",
    "* decision tree\n",
    "* random forest\n",
    "* KNN\n",
    "\n",
    "The dataset is available as part of scikit learn, as follows."
   ]
  },
  {
   "cell_type": "code",
   "execution_count": 73,
   "metadata": {
    "colab": {
     "base_uri": "https://localhost:8080/"
    },
    "id": "G34BD-WdaneG",
    "outputId": "4051b857-0712-48a1-a0e3-2900c8645e3a"
   },
   "outputs": [
    {
     "name": "stdout",
     "output_type": "stream",
     "text": [
      "(1797, 64)\n",
      "(1797,)\n"
     ]
    }
   ],
   "source": [
    "from sklearn.datasets import load_digits\n",
    "digits = load_digits()\n",
    "\n",
    "X = digits.data # training data\n",
    "y = digits.target # training label\n",
    "\n",
    "print(X.shape)\n",
    "print(y.shape)"
   ]
  },
  {
   "cell_type": "code",
   "execution_count": 74,
   "metadata": {
    "colab": {
     "base_uri": "https://localhost:8080/",
     "height": 602
    },
    "id": "fGu93j6CaqLq",
    "outputId": "8e25454a-cac2-43ef-ec23-abd94f413e8b"
   },
   "outputs": [
    {
     "data": {
      "image/png": "[encoded data removed]",
      "text/plain": [
       "<Figure size 900x600 with 20 Axes>"
      ]
     },
     "metadata": {},
     "output_type": "display_data"
    }
   ],
   "source": [
    "import matplotlib.pyplot as plt\n",
    "import pylab as pl\n",
    "import matplotlib as mpl\n",
    "mpl.rcParams['figure.dpi'] = 150\n",
    "num_rows = 4\n",
    "num_cols = 5\n",
    "fig, ax = plt.subplots(nrows=num_rows, ncols=num_cols, sharex=True, sharey=True)\n",
    "ax = ax.flatten()\n",
    "for index in range(num_rows*num_cols):\n",
    "    img = digits.images[index]\n",
    "    label = digits.target[index]\n",
    "    ax[index].imshow(img, cmap='Greys', interpolation='nearest')\n",
    "    ax[index].set_title('digit ' + str(label))\n",
    "ax[0].set_xticks([])\n",
    "ax[0].set_yticks([])\n",
    "plt.tight_layout()\n",
    "plt.show()"
   ]
  },
  {
   "cell_type": "markdown",
   "metadata": {
    "id": "Vrz6Lwxja7XB"
   },
   "source": [
    "Date Preprocessing\n",
    "\n",
    "Hint: Divide training and test data set and apply other techinques we have learned if needed."
   ]
  },
  {
   "cell_type": "code",
   "execution_count": 75,
   "metadata": {
    "id": "OJW5hPNkbAT4"
   },
   "outputs": [
    {
     "name": "stdout",
     "output_type": "stream",
     "text": [
      "(1257,) (540,)\n"
     ]
    }
   ],
   "source": [
    "#Your code comes here\n",
    "from sklearn.model_selection import train_test_split\n",
    "from sklearn.preprocessing import StandardScaler\n",
    "\n",
    "X_train, X_test, y_train, y_test = train_test_split(X, y, test_size=0.3, random_state=1, stratify=y)\n",
    "sc = StandardScaler()\n",
    "sc.fit(X_train)\n",
    "X_train_std = sc.transform(X_train)\n",
    "X_test_std = sc.transform(X_test)\n",
    "print(y_train.shape, y_test.shape)"
   ]
  },
  {
   "cell_type": "markdown",
   "metadata": {
    "id": "GX6bWDjCLoIr"
   },
   "source": [
    "Classifier #1 Perceptron"
   ]
  },
  {
   "cell_type": "code",
   "execution_count": 82,
   "metadata": {
    "id": "lYkmrjmrLoIr"
   },
   "outputs": [
    {
     "name": "stdout",
     "output_type": "stream",
     "text": [
      "Train Accuracy: 0.97\n",
      "Test Accuracy: 0.94\n"
     ]
    }
   ],
   "source": [
    "#Your code, including traing and testing, to observe the accuracies.\n",
    "from sklearn.linear_model import Perceptron\n",
    "\n",
    "ppn = Perceptron(max_iter=50, tol=1e-3, eta0=0.01, random_state=1)\n",
    "ppn.fit(X_train_std, y_train)\n",
    "\n",
    "print('Train Accuracy: %.2f' % ppn.score(X_train_std, y_train))\n",
    "print('Test Accuracy: %.2f' % ppn.score(X_test_std, y_test))"
   ]
  },
  {
   "cell_type": "markdown",
   "metadata": {
    "id": "yfoFni6tLoIv"
   },
   "source": [
    "Classifier #2 Logistic Regression"
   ]
  },
  {
   "cell_type": "code",
   "execution_count": 85,
   "metadata": {
    "id": "eggDI2swLoIv"
   },
   "outputs": [
    {
     "name": "stdout",
     "output_type": "stream",
     "text": [
      "Train Accuracy: 1.00\n",
      "Test Accuracy: 0.96\n"
     ]
    }
   ],
   "source": [
    "#Your code, including traing and testing, to observe the accuracies.\n",
    "from sklearn.linear_model import LogisticRegression\n",
    "\n",
    "lr = LogisticRegression(C=100.0, solver='liblinear', multi_class='ovr', random_state=1)\n",
    "lr.fit(X_train_std, y_train)\n",
    "\n",
    "print('Train Accuracy: %.2f' % lr.score(X_train_std, y_train))\n",
    "print('Test Accuracy: %.2f' % lr.score(X_test_std, y_test))"
   ]
  },
  {
   "cell_type": "markdown",
   "metadata": {
    "id": "4hlwLV3RLoIz"
   },
   "source": [
    "Classifier #3 SVM"
   ]
  },
  {
   "cell_type": "code",
   "execution_count": 86,
   "metadata": {
    "id": "jWracruvLoI0"
   },
   "outputs": [
    {
     "name": "stdout",
     "output_type": "stream",
     "text": [
      "Train Accuracy: 1.00\n",
      "Test Accuracy: 0.99\n"
     ]
    }
   ],
   "source": [
    "#Your code, including traing and testing, to observe the accuracies.\n",
    "from sklearn.svm import SVC\n",
    "\n",
    "svm = SVC(kernel='rbf', C=1, gamma=0.02, random_state=1)\n",
    "svm.fit(X_train_std, y_train)\n",
    "\n",
    "print('Train Accuracy: %.2f' % svm.score(X_train_std, y_train))\n",
    "print('Test Accuracy: %.2f' % svm.score(X_test_std, y_test))"
   ]
  },
  {
   "cell_type": "markdown",
   "metadata": {
    "id": "OjozjBQ8LoI4"
   },
   "source": [
    "Classifier #4 Decision Tree"
   ]
  },
  {
   "cell_type": "code",
   "execution_count": 87,
   "metadata": {
    "id": "inw3NjgQLoI4"
   },
   "outputs": [
    {
     "name": "stdout",
     "output_type": "stream",
     "text": [
      "Train Accuracy: 0.98\n",
      "Test Accuracy: 0.84\n"
     ]
    }
   ],
   "source": [
    "#Your code, including traing and testing, to observe the accuracies.\n",
    "from sklearn.tree import DecisionTreeClassifier\n",
    "\n",
    "tree = DecisionTreeClassifier(criterion='gini', max_depth=10, random_state=1)\n",
    "tree.fit(X_train, y_train)\n",
    "\n",
    "print('Train Accuracy: %.2f' % tree.score(X_train, y_train))\n",
    "print('Test Accuracy: %.2f' % tree.score(X_test, y_test))"
   ]
  },
  {
   "cell_type": "markdown",
   "metadata": {
    "id": "hIVcFJhELoI8"
   },
   "source": [
    "Classifer #5 Random Forest"
   ]
  },
  {
   "cell_type": "code",
   "execution_count": 94,
   "metadata": {
    "id": "ZsFgIgVKLoI8"
   },
   "outputs": [
    {
     "name": "stdout",
     "output_type": "stream",
     "text": [
      "Train Accuracy: 1.00\n",
      "Test Accuracy: 0.97\n"
     ]
    }
   ],
   "source": [
    "#Your code, including traing and testing, to observe the accuracies.\n",
    "from sklearn.ensemble import RandomForestClassifier\n",
    "\n",
    "forest = RandomForestClassifier(criterion='gini', n_estimators=30, random_state=1, n_jobs=4)\n",
    "forest.fit(X_train, y_train)\n",
    "\n",
    "print('Train Accuracy: %.2f' % forest.score(X_train, y_train))\n",
    "print('Test Accuracy: %.2f' % forest.score(X_test, y_test))"
   ]
  },
  {
   "cell_type": "markdown",
   "metadata": {
    "id": "OQWwURjyLoI_"
   },
   "source": [
    "Classifier #6 KNN"
   ]
  },
  {
   "cell_type": "code",
   "execution_count": 101,
   "metadata": {
    "id": "afe9Rn3FLoJA"
   },
   "outputs": [
    {
     "name": "stdout",
     "output_type": "stream",
     "text": [
      "Train Accuracy: 0.98\n",
      "Test Accuracy: 0.99\n"
     ]
    }
   ],
   "source": [
    "#Your code, including traing and testing, to observe the accuracies.\n",
    "from sklearn.neighbors import KNeighborsClassifier\n",
    "\n",
    "knn = KNeighborsClassifier(n_neighbors=5, p=2, metric='minkowski')\n",
    "knn.fit(X_train_std, y_train)\n",
    "\n",
    "print('Train Accuracy: %.2f' % knn.score(X_train_std, y_train))\n",
    "print('Test Accuracy: %.2f' % knn.score(X_test_std, y_test))"
   ]
  },
  {
   "cell_type": "markdown",
   "metadata": {},
   "source": [
    "So **SVM** performs best, **Decision Tree** performs worst.  \n",
    "Because both the train accuracy and test accuracy of SVM are best among these classifiers. While the test accuracy of Decision Tree is worst."
   ]
  },
  {
   "cell_type": "markdown",
   "metadata": {
    "id": "gsIa9BsPGr2k"
   },
   "source": [
    "### B3\n",
    "Build a spam classifier:\n",
    "\n",
    "\n",
    "\n",
    "*   Download examples of spam and ham from Apache SpamAssassin’s public datasets.\n",
    "*   Unzip the datasets and familiarize yourself with the data format.\n",
    "*   Split the datasets into a training set and a test set.\n",
    "*   Write a data preparation pipeline to convert each email into a feature vector. Your preparation pipeline should transform an email into a (sparse) vector that indicates the presence or absence of each possible word. For example, if all emails only ever contain four words, “Hello,” “how,” “are,” “you,” then the email “Hello you Hello Hello you” would be converted into a vector [1, 0, 0, 1] (meaning [“Hello” is present, “how” is absent, “are” is absent, “you” is present]), or [3, 0, 0, 2] if you prefer to count the number of occurrences of each word.\n",
    "*   You may want to add hyperparameters to your preparation pipeline to control whether or not to strip off email headers, convert each email to lowercase, remove punctuation, replace all URLs with “URL,” replace all numbers with “NUMBER,” or even perform stemming (i.e., trim off word endings; there are Python libraries available to do this).\n",
    "\n",
    "*   Finally, try out several classifiers and see if you can build a great spam classifier, with both high recall and high precision."
   ]
  },
  {
   "cell_type": "markdown",
   "metadata": {},
   "source": [
    "**Download and unzip the dataset**"
   ]
  },
  {
   "cell_type": "code",
   "execution_count": 107,
   "metadata": {
    "id": "cos_X9WTAe3C"
   },
   "outputs": [],
   "source": [
    "#Your answer here\n",
    "import os\n",
    "from urllib.request import urlretrieve\n",
    "import shutil\n",
    "import tarfile\n",
    "\n",
    "DATASET_DIR = 'data'\n",
    "SPAM_URL = 'https://spamassassin.apache.org/old/publiccorpus/20050311_spam_2.tar.bz2'\n",
    "EASY_HAM_URL = 'https://spamassassin.apache.org/old/publiccorpus/20030228_easy_ham.tar.bz2'\n",
    "TAR_DIR = os.path.join(DATASET_DIR, 'tar')\n",
    "if not os.path.isdir(TAR_DIR):\n",
    "    os.makedirs(TAR_DIR)\n",
    "    \n",
    "    \n",
    "def download_data(url):\n",
    "    \n",
    "    filename = url.rsplit('/', 1)[-1]\n",
    "    filepath = os.path.join(TAR_DIR, filename)\n",
    "    \n",
    "    urlretrieve(url, filepath)\n",
    "    with tarfile.open(filepath) as tar:\n",
    "        dirname = os.path.join(DATASET_DIR, tar.getnames()[0])\n",
    "        if os.path.isdir(dirname):\n",
    "            shutil.rmtree(dirname)\n",
    "        tar.extractall(path=DATASET_DIR) # unzip tar file\n",
    "        \n",
    "        cmds_path = os.path.join(dirname, 'cmds')\n",
    "        if os.path.isfile(cmds_path):\n",
    "            os.remove(cmds_path)\n",
    "    \n",
    "    return dirname"
   ]
  },
  {
   "cell_type": "code",
   "execution_count": 108,
   "metadata": {},
   "outputs": [],
   "source": [
    "spam_dir = download_data(SPAM_URL)\n",
    "easy_ham_dir = download_data(EASY_HAM_URL)"
   ]
  },
  {
   "cell_type": "markdown",
   "metadata": {},
   "source": [
    "**Split the datasets into a training set and a test set**"
   ]
  },
  {
   "cell_type": "code",
   "execution_count": 110,
   "metadata": {},
   "outputs": [],
   "source": [
    "import numpy as np\n",
    "import glob\n",
    "\n",
    "def load_data(dirpath):\n",
    "    \n",
    "    files = []\n",
    "    glob_path = os.path.join(dirpath, '*')\n",
    "    filepaths = glob.glob(glob_path)\n",
    "    for path in filepaths:\n",
    "        with open(path, 'rb') as f:\n",
    "            byte_content = f.read()\n",
    "            str_content = byte_content.decode('utf-8', errors='ignore')\n",
    "            files.append(str_content)\n",
    "    return files\n",
    "\n",
    "spam = load_data(spam_dir)\n",
    "easy_ham = load_data(easy_ham_dir)"
   ]
  },
  {
   "cell_type": "code",
   "execution_count": 115,
   "metadata": {},
   "outputs": [
    {
     "name": "stdout",
     "output_type": "stream",
     "text": [
      "1396 2500\n"
     ]
    }
   ],
   "source": [
    "print(len(spam),len(easy_ham))"
   ]
  },
  {
   "cell_type": "code",
   "execution_count": 117,
   "metadata": {
    "scrolled": true
   },
   "outputs": [
    {
     "data": {
      "text/plain": [
       "'From exmh-workers-admin@redhat.com  Thu Aug 22 12:36:23 2002\\nReturn-Path: <exmh-workers-admin@spamassassin.taint.org>\\nDelivered-To: zzzz@localhost.netnoteinc.com\\nReceived: from localhost (localhost [127.0.0.1])\\n\\tby phobos.labs.netnoteinc.com (Postfix) with ESMTP id D03E543C36\\n\\tfor <zzzz@localhost>; Thu, 22 Aug 2002 07:36:16 -0400 (EDT)\\nReceived: from phobos [127.0.0.1]\\n\\tby localhost with IMAP (fetchmail-5.9.0)\\n\\tfor zzzz@localhost (single-drop); Thu, 22 Aug 2002 12:36:16 +0100 (IST)\\nReceived: from listman.spamassassin.taint.org (listman.spamassassin.taint.org [66.187.233.211]) by\\n    dogma.slashnull.org (8.11.6/8.11.6) with ESMTP id g7MBYrZ04811 for\\n    <zzzz-exmh@spamassassin.taint.org>; Thu, 22 Aug 2002 12:34:53 +0100\\nReceived: from listman.spamassassin.taint.org (localhost.localdomain [127.0.0.1]) by\\n    listman.redhat.com (Postfix) with ESMTP id 8386540858; Thu, 22 Aug 2002\\n    07:35:02 -0400 (EDT)\\nDelivered-To: exmh-workers@listman.spamassassin.taint.org\\nReceived: from int-mx1.corp.spamassassin.taint.org (int-mx1.corp.spamassassin.taint.org\\n    [172.16.52.254]) by listman.redhat.com (Postfix) with ESMTP id 10CF8406D7\\n    for <exmh-workers@listman.redhat.com>; Thu, 22 Aug 2002 07:34:10 -0400\\n    (EDT)\\nReceived: (from mail@localhost) by int-mx1.corp.spamassassin.taint.org (8.11.6/8.11.6)\\n    id g7MBY7g11259 for exmh-workers@listman.redhat.com; Thu, 22 Aug 2002\\n    07:34:07 -0400\\nReceived: from mx1.spamassassin.taint.org (mx1.spamassassin.taint.org [172.16.48.31]) by\\n    int-mx1.corp.redhat.com (8.11.6/8.11.6) with SMTP id g7MBY7Y11255 for\\n    <exmh-workers@redhat.com>; Thu, 22 Aug 2002 07:34:07 -0400\\nReceived: from ratree.psu.ac.th ([202.28.97.6]) by mx1.spamassassin.taint.org\\n    (8.11.6/8.11.6) with SMTP id g7MBIhl25223 for <exmh-workers@redhat.com>;\\n    Thu, 22 Aug 2002 07:18:55 -0400\\nReceived: from delta.cs.mu.OZ.AU (delta.coe.psu.ac.th [172.30.0.98]) by\\n    ratree.psu.ac.th (8.11.6/8.11.6) with ESMTP id g7MBWel29762;\\n    Thu, 22 Aug 2002 18:32:40 +0700 (ICT)\\nReceived: from munnari.OZ.AU (localhost [127.0.0.1]) by delta.cs.mu.OZ.AU\\n    (8.11.6/8.11.6) with ESMTP id g7MBQPW13260; Thu, 22 Aug 2002 18:26:25\\n    +0700 (ICT)\\nFrom: Robert Elz <kre@munnari.OZ.AU>\\nTo: Chris Garrigues <cwg-dated-1030377287.06fa6d@DeepEddy.Com>\\nCc: exmh-workers@spamassassin.taint.org\\nSubject: Re: New Sequences Window\\nIn-Reply-To: <1029945287.4797.TMDA@deepeddy.vircio.com>\\nReferences: <1029945287.4797.TMDA@deepeddy.vircio.com>\\n    <1029882468.3116.TMDA@deepeddy.vircio.com> <9627.1029933001@munnari.OZ.AU>\\n    <1029943066.26919.TMDA@deepeddy.vircio.com>\\n    <1029944441.398.TMDA@deepeddy.vircio.com>\\nMIME-Version: 1.0\\nContent-Type: text/plain; charset=us-ascii\\nMessage-Id: <13258.1030015585@munnari.OZ.AU>\\nX-Loop: exmh-workers@spamassassin.taint.org\\nSender: exmh-workers-admin@spamassassin.taint.org\\nErrors-To: exmh-workers-admin@spamassassin.taint.org\\nX-Beenthere: exmh-workers@spamassassin.taint.org\\nX-Mailman-Version: 2.0.1\\nPrecedence: bulk\\nList-Help: <mailto:exmh-workers-request@spamassassin.taint.org?subject=help>\\nList-Post: <mailto:exmh-workers@spamassassin.taint.org>\\nList-Subscribe: <https://listman.spamassassin.taint.org/mailman/listinfo/exmh-workers>,\\n    <mailto:exmh-workers-request@redhat.com?subject=subscribe>\\nList-Id: Discussion list for EXMH developers <exmh-workers.spamassassin.taint.org>\\nList-Unsubscribe: <https://listman.spamassassin.taint.org/mailman/listinfo/exmh-workers>,\\n    <mailto:exmh-workers-request@redhat.com?subject=unsubscribe>\\nList-Archive: <https://listman.spamassassin.taint.org/mailman/private/exmh-workers/>\\nDate: Thu, 22 Aug 2002 18:26:25 +0700\\n\\n    Date:        Wed, 21 Aug 2002 10:54:46 -0500\\n    From:        Chris Garrigues <cwg-dated-1030377287.06fa6d@DeepEddy.Com>\\n    Message-ID:  <1029945287.4797.TMDA@deepeddy.vircio.com>\\n\\n\\n  | I can\\'t reproduce this error.\\n\\nFor me it is very repeatable... (like every time, without fail).\\n\\nThis is the debug log of the pick happening ...\\n\\n18:19:03 Pick_It {exec pick +inbox -list -lbrace -lbrace -subject ftp -rbrace -rbrace} {4852-4852 -sequence mercury}\\n18:19:03 exec pick +inbox -list -lbrace -lbrace -subject ftp -rbrace -rbrace 4852-4852 -sequence mercury\\n18:19:04 Ftoc_PickMsgs {{1 hit}}\\n18:19:04 Marking 1 hits\\n18:19:04 tkerror: syntax error in expression \"int ...\\n\\nNote, if I run the pick command by hand ...\\n\\ndelta$ pick +inbox -list -lbrace -lbrace -subject ftp -rbrace -rbrace  4852-4852 -sequence mercury\\n1 hit\\n\\nThat\\'s where the \"1 hit\" comes from (obviously).  The version of nmh I\\'m\\nusing is ...\\n\\ndelta$ pick -version\\npick -- nmh-1.0.4 [compiled on fuchsia.cs.mu.OZ.AU at Sun Mar 17 14:55:56 ICT 2002]\\n\\nAnd the relevant part of my .mh_profile ...\\n\\ndelta$ mhparam pick\\n-seq sel -list\\n\\n\\nSince the pick command works, the sequence (actually, both of them, the\\none that\\'s explicit on the command line, from the search popup, and the\\none that comes from .mh_profile) do get created.\\n\\nkre\\n\\nps: this is still using the version of the code form a day ago, I haven\\'t\\nbeen able to reach the cvs repository today (local routing issue I think).\\n\\n\\n\\n_______________________________________________\\nExmh-workers mailing list\\nExmh-workers@redhat.com\\nhttps://listman.redhat.com/mailman/listinfo/exmh-workers\\n\\n'"
      ]
     },
     "execution_count": 117,
     "metadata": {},
     "output_type": "execute_result"
    }
   ],
   "source": [
    "easy_ham[0]"
   ]
  },
  {
   "cell_type": "code",
   "execution_count": 114,
   "metadata": {},
   "outputs": [
    {
     "name": "stdout",
     "output_type": "stream",
     "text": [
      "len(X_train): 3116\n",
      "len(y_train): 3116\n",
      "len(X_test): 780\n",
      "len(y_test): 780\n"
     ]
    }
   ],
   "source": [
    "import sklearn.utils\n",
    "from sklearn.model_selection import train_test_split\n",
    "\n",
    "X = spam + easy_ham\n",
    "y = np.concatenate((np.ones(len(spam)), np.zeros(len(easy_ham))))  #create labels\n",
    "\n",
    "# shuffle the dataset\n",
    "X, y = sklearn.utils.shuffle(X, y, random_state=1)\n",
    "# split data\n",
    "X_train, X_test, y_train, y_test = train_test_split(X, y, test_size=0.2, stratify=y, random_state=1)\n",
    "\n",
    "print(\"len(X_train):\", len(X_train))\n",
    "print(\"len(y_train):\", len(y_train))\n",
    "print(\"len(X_test):\", len(X_test))\n",
    "print(\"len(y_test):\", len(y_test))"
   ]
  },
  {
   "cell_type": "code",
   "execution_count": 118,
   "metadata": {
    "scrolled": true
   },
   "outputs": [
    {
     "data": {
      "text/plain": [
       "'From ilug-admin@linux.ie  Tue Aug  6 11:51:02 2002\\nReturn-Path: <ilug-admin@linux.ie>\\nDelivered-To: yyyy@localhost.netnoteinc.com\\nReceived: from localhost (localhost [127.0.0.1])\\n\\tby phobos.labs.netnoteinc.com (Postfix) with ESMTP id 9E1F5441DD\\n\\tfor <jm@localhost>; Tue,  6 Aug 2002 06:48:09 -0400 (EDT)\\nReceived: from phobos [127.0.0.1]\\n\\tby localhost with IMAP (fetchmail-5.9.0)\\n\\tfor jm@localhost (single-drop); Tue, 06 Aug 2002 11:48:09 +0100 (IST)\\nReceived: from lugh.tuatha.org (root@lugh.tuatha.org [194.125.145.45]) by\\n    dogma.slashnull.org (8.11.6/8.11.6) with ESMTP id g72LqWv13294 for\\n    <jm-ilug@jmason.org>; Fri, 2 Aug 2002 22:52:32 +0100\\nReceived: from lugh (root@localhost [127.0.0.1]) by lugh.tuatha.org\\n    (8.9.3/8.9.3) with ESMTP id WAA31224; Fri, 2 Aug 2002 22:50:17 +0100\\nReceived: from bettyjagessar.com (w142.z064000057.nyc-ny.dsl.cnc.net\\n    [64.0.57.142]) by lugh.tuatha.org (8.9.3/8.9.3) with ESMTP id WAA31201 for\\n    <ilug@linux.ie>; Fri, 2 Aug 2002 22:50:11 +0100\\nX-Authentication-Warning: lugh.tuatha.org: Host w142.z064000057.nyc-ny.dsl.cnc.net\\n    [64.0.57.142] claimed to be bettyjagessar.com\\nReceived: from 64.0.57.142 [202.63.165.34] by bettyjagessar.com\\n    (SMTPD32-7.06 EVAL) id A42A7FC01F2; Fri, 02 Aug 2002 02:18:18 -0400\\nMessage-Id: <1028311679.886@0.57.142>\\nDate: Fri, 02 Aug 2002 23:37:59 0530\\nTo: ilug@linux.ie\\nFrom: \"Start Now\" <startnow2002@hotmail.com>\\nMIME-Version: 1.0\\nContent-Type: text/plain; charset=\"US-ASCII\"; format=flowed\\nSubject: [ILUG] STOP THE MLM INSANITY\\nSender: ilug-admin@linux.ie\\nErrors-To: ilug-admin@linux.ie\\nX-Mailman-Version: 1.1\\nPrecedence: bulk\\nList-Id: Irish Linux Users\\' Group <ilug.linux.ie>\\nX-Beenthere: ilug@linux.ie\\n\\nGreetings!\\n\\nYou are receiving this letter because you have expressed an interest in \\nreceiving information about online business opportunities. If this is \\nerroneous then please accept my most sincere apology. This is a one-time \\nmailing, so no removal is necessary.\\n\\nIf you\\'ve been burned, betrayed, and back-stabbed by multi-level marketing, \\nMLM, then please read this letter. It could be the most important one that \\nhas ever landed in your Inbox.\\n\\nMULTI-LEVEL MARKETING IS A HUGE MISTAKE FOR MOST PEOPLE\\n\\nMLM has failed to deliver on its promises for the past 50 years. The pursuit \\nof the \"MLM Dream\" has cost hundreds of thousands of people their friends, \\ntheir fortunes and their sacred honor. The fact is that MLM is fatally \\nflawed, meaning that it CANNOT work for most people.\\n\\nThe companies and the few who earn the big money in MLM are NOT going to \\ntell you the real story. FINALLY, there is someone who has the courage to \\ncut through the hype and lies and tell the TRUTH about MLM.\\n\\nHERE\\'S GOOD NEWS\\n\\nThere IS an alternative to MLM that WORKS, and works BIG! If you haven\\'t yet \\nabandoned your dreams, then you need to see this. Earning the kind of income \\nyou\\'ve dreamed about is easier than you think!\\n\\nWith your permission, I\\'d like to send you a brief letter that will tell you \\nWHY MLM doesn\\'t work for most people and will then introduce you to \\nsomething so new and refreshing that you\\'ll wonder why you haven\\'t heard of \\nthis before.\\n\\nI promise that there will be NO unwanted follow up, NO sales pitch, no one \\nwill call you, and your email address will only be used to send you the \\ninformation. Period.\\n\\nTo receive this free, life-changing information, simply click Reply, type \\n\"Send Info\" in the Subject box and hit Send. I\\'ll get the information to you \\nwithin 24 hours. Just look for the words MLM WALL OF SHAME in your Inbox.\\n\\nCordially,\\n\\nSiddhi\\n\\nP.S. Someone recently sent the letter to me and it has been the most \\neye-opening, financially beneficial information I have ever received. I \\nhonestly believe that you will feel the same way once you\\'ve read it. And \\nit\\'s FREE!\\n\\n\\n------------------------------------------------------------\\nThis email is NEVER sent unsolicited.  THIS IS NOT \"SPAM\". You are receiving \\nthis email because you EXPLICITLY signed yourself up to our list with our \\nonline signup form or through use of our FFA Links Page and E-MailDOM \\nsystems, which have EXPLICIT terms of use which state that through its use \\nyou agree to receive our emailings.  You may also be a member of a Altra \\nComputer Systems list or one of many numerous FREE Marketing Services and as \\nsuch you agreed when you signed up for such list that you would also be \\nreceiving this emailing.\\nDue to the above, this email message cannot be considered unsolicitated, or \\nspam.\\n-----------------------------------------------------------\\n\\n\\n\\n\\n-- \\nIrish Linux Users\\' Group: ilug@linux.ie\\nhttp://www.linux.ie/mailman/listinfo/ilug for (un)subscription information.\\nList maintainer: listmaster@linux.ie\\n\\n\\n'"
      ]
     },
     "execution_count": 118,
     "metadata": {},
     "output_type": "execute_result"
    }
   ],
   "source": [
    "spam[0]"
   ]
  },
  {
   "cell_type": "markdown",
   "metadata": {},
   "source": [
    "**Data preparation pipeline**"
   ]
  },
  {
   "cell_type": "code",
   "execution_count": 120,
   "metadata": {},
   "outputs": [],
   "source": [
    "import re\n",
    "import string\n",
    "def filter_header(str):\n",
    "    index = str.index('\\n\\n')\n",
    "    return str[index:]\n",
    "\n",
    "def filter_urls(words):\n",
    "    for i, word in enumerate(words):\n",
    "        if re.match(\"http[s]?://(?:[a-zA-Z]|[0-9]|[$-_@.&+]|\"\"[!*\\(\\), ]|(?:%[0-9a-fA-F][0-9a-fA-F]))+\", word):\n",
    "            words[i]='URL'\n",
    "    return words\n",
    "\n",
    "def filter_num(words):\n",
    "    for i, word in enumerate(words):\n",
    "        if word.isdigit():\n",
    "            words[i] = 'NUM'\n",
    "    return words\n",
    "\n",
    "def filter_punctuation(str):    \n",
    "    # new_str = ''.join(l for l in str if l not in string.punctuation)\n",
    "    new_str = ''\n",
    "    for l in str:\n",
    "        if l.isalnum() or l.isspace():\n",
    "            new_str += l\n",
    "    return new_str"
   ]
  },
  {
   "cell_type": "code",
   "execution_count": 123,
   "metadata": {},
   "outputs": [],
   "source": [
    "from sklearn.base import BaseEstimator, TransformerMixin\n",
    "from sklearn.pipeline import Pipeline\n",
    "from sklearn.feature_extraction.text import CountVectorizer\n",
    "\n",
    "class EmailsClean(BaseEstimator, TransformerMixin):\n",
    "    def __init__(self, filter_header=True, to_lowercase=True, filter_urls=True, filter_num=True, filter_punctuation=True):\n",
    "        self.filter_header = filter_header\n",
    "        self.to_lowercase = to_lowercase\n",
    "        self.filter_urls = filter_urls\n",
    "        self.filter_num = filter_num\n",
    "        self.filter_punctuation = filter_punctuation\n",
    "    \n",
    "    def fit(self, X):\n",
    "        return self\n",
    "    \n",
    "    def transform(self, X):\n",
    "        X_cleaned = []\n",
    "        for email in X:\n",
    "            if self.filter_header:\n",
    "                email = filter_header(email)\n",
    "            if self.to_lowercase:\n",
    "                email = email.lower()\n",
    "            \n",
    "            email_words = email.split()\n",
    "            if self.filter_urls:\n",
    "                email_words = filter_urls(email_words)\n",
    "            if self.filter_num:\n",
    "                email_words = filter_num(email_words)\n",
    "            email = ' '.join(email_words)\n",
    "            if self.filter_punctuation:\n",
    "                email = filter_punctuation(email)\n",
    "            X_cleaned.append(email)\n",
    "        return X_cleaned\n",
    "    \n",
    "# build data preparation pipeline\n",
    "preparation_pipeline = Pipeline([\n",
    "    ('clean_email', EmailsClean()),\n",
    "    ('bag_of_words', CountVectorizer())  # use bag of words\n",
    "])"
   ]
  },
  {
   "cell_type": "code",
   "execution_count": 127,
   "metadata": {},
   "outputs": [
    {
     "name": "stdout",
     "output_type": "stream",
     "text": [
      "X_train_final: (3116, 74238)\n"
     ]
    }
   ],
   "source": [
    "X_train_final = preparation_pipeline.fit_transform(X_train)\n",
    "print(\"X_train_final:\",X_train_final.shape)"
   ]
  },
  {
   "cell_type": "markdown",
   "metadata": {},
   "source": [
    "**Train and Evaluate models**"
   ]
  },
  {
   "cell_type": "code",
   "execution_count": 131,
   "metadata": {},
   "outputs": [],
   "source": [
    "from sklearn.svm import SVC\n",
    "from sklearn.linear_model import SGDClassifier\n",
    "from sklearn.tree import DecisionTreeClassifier\n",
    "from sklearn.ensemble import RandomForestClassifier\n",
    "from sklearn.ensemble import AdaBoostClassifier\n",
    "from sklearn.ensemble import GradientBoostingClassifier\n",
    "from sklearn.neural_network import MLPClassifier\n",
    "\n",
    "classifiers = {\n",
    "    'SVM': SVC(),\n",
    "    'SGD': SGDClassifier(max_iter=100, random_state=2),\n",
    "    'Decision Tree': DecisionTreeClassifier(),\n",
    "    'Random Forest': RandomForestClassifier(),\n",
    "    'AdaBoost': AdaBoostClassifier(),\n",
    "    'Gradient Boosting Decision Trees': GradientBoostingClassifier(),\n",
    "    'MLP': MLPClassifier(hidden_layer_sizes=(16,))\n",
    "}\n"
   ]
  },
  {
   "cell_type": "code",
   "execution_count": 133,
   "metadata": {},
   "outputs": [
    {
     "name": "stdout",
     "output_type": "stream",
     "text": [
      "SVM:\n",
      "precision: 0.9771490750816104\n",
      "recall: 0.8039391226499553\n",
      "f1: 0.8821218074656187\n",
      "SGD:\n",
      "precision: 0.9800543970988214\n",
      "recall: 0.9677708146821844\n",
      "f1: 0.9738738738738738\n",
      "Decision Tree:\n",
      "precision: 0.9353369763205829\n",
      "recall: 0.9194270367054611\n",
      "f1: 0.9273137697516929\n",
      "Random Forest:\n",
      "precision: 0.992467043314501\n",
      "recall: 0.9435989256938228\n",
      "f1: 0.9674162459843966\n",
      "AdaBoost:\n",
      "precision: 0.9790337283500455\n",
      "recall: 0.9615040286481648\n",
      "f1: 0.970189701897019\n",
      "Gradient Boosting Decision Trees:\n",
      "precision: 0.9806629834254144\n",
      "recall: 0.9534467323187108\n",
      "f1: 0.9668633681343622\n",
      "MLP:\n",
      "precision: 0.9972118959107806\n",
      "recall: 0.9606087735004476\n",
      "f1: 0.9785681714546284\n"
     ]
    }
   ],
   "source": [
    "from sklearn.model_selection import cross_val_predict\n",
    "from sklearn.metrics import precision_score, recall_score, f1_score\n",
    "\n",
    "y_preds = {}\n",
    "for name, clf in classifiers.items():\n",
    "    y_preds[name] = cross_val_predict(clf, X_train_final, y_train, cv=5)\n",
    "\n",
    "for name, y_pred in y_preds.items():\n",
    "    precision = precision_score(y_train, y_pred)\n",
    "    recall = recall_score(y_train, y_pred)\n",
    "    f1 = f1_score(y_train, y_pred)\n",
    "    print(name+':')\n",
    "    print(\"precision:\",precision)\n",
    "    print(\"recall:\", recall)\n",
    "    print(\"f1:\", f1)"
   ]
  },
  {
   "cell_type": "code",
   "execution_count": 136,
   "metadata": {},
   "outputs": [
    {
     "name": "stdout",
     "output_type": "stream",
     "text": [
      "SVM:\n",
      "precision: 0.9914163090128756\n",
      "recall: 0.8279569892473119\n",
      "f1: 0.90234375\n",
      "\n",
      "SGD:\n",
      "precision: 0.9891304347826086\n",
      "recall: 0.978494623655914\n",
      "f1: 0.9837837837837837\n",
      "\n",
      "Decision Tree:\n",
      "precision: 0.9326241134751773\n",
      "recall: 0.942652329749104\n",
      "f1: 0.9376114081996434\n",
      "\n",
      "Random Forest:\n",
      "precision: 0.996268656716418\n",
      "recall: 0.956989247311828\n",
      "f1: 0.9762340036563072\n",
      "\n",
      "AdaBoost:\n",
      "precision: 0.9747292418772563\n",
      "recall: 0.967741935483871\n",
      "f1: 0.9712230215827338\n",
      "\n",
      "Gradient Boosting Decision Trees:\n",
      "precision: 0.9744525547445255\n",
      "recall: 0.956989247311828\n",
      "f1: 0.9656419529837252\n",
      "\n",
      "MLP:\n",
      "precision: 1.0\n",
      "recall: 0.96415770609319\n",
      "f1: 0.9817518248175183\n",
      "\n"
     ]
    }
   ],
   "source": [
    "# test\n",
    "X_test_final = preparation_pipeline.transform(X_test)\n",
    "\n",
    "svm_clf = SVC()\n",
    "sgd_clf = SGDClassifier(max_iter=100, random_state=2)\n",
    "tree_clf = DecisionTreeClassifier()\n",
    "rf_clf = RandomForestClassifier()\n",
    "adaboost_clf = AdaBoostClassifier()\n",
    "gbdt_clf = GradientBoostingClassifier()\n",
    "mlp_clf = MLPClassifier(hidden_layer_sizes=(16,))\n",
    "\n",
    "test_classifiers = {\n",
    "    'SVM': svm_clf,\n",
    "    'SGD': sgd_clf,\n",
    "    'Decision Tree': tree_clf,\n",
    "    'Random Forest': rf_clf,\n",
    "    'AdaBoost': adaboost_clf,\n",
    "    'Gradient Boosting Decision Trees': gbdt_clf,\n",
    "    'MLP': mlp_clf\n",
    "}\n",
    "for name, clf in classifiers.items():\n",
    "    clf.fit(X_train_final, y_train)\n",
    "    y_pred = clf.predict(X_test_final)\n",
    "    precision = precision_score(y_test, y_pred)\n",
    "    recall = recall_score(y_test, y_pred)\n",
    "    f1 = f1_score(y_test, y_pred)\n",
    "    print(name+':')\n",
    "    print(\"precision:\",precision)\n",
    "    print(\"recall:\", recall)\n",
    "    print(\"f1:\", f1)\n",
    "    print()"
   ]
  },
  {
   "cell_type": "markdown",
   "metadata": {},
   "source": [
    "So the MLP model is the best among above classifiers for its f1 score is the highest."
   ]
  }
 ],
 "metadata": {
  "colab": {
   "collapsed_sections": [],
   "name": "COMP7404A 2021 - Assignment 4",
   "provenance": []
  },
  "kernelspec": {
   "display_name": "Python 3",
   "language": "python",
   "name": "python3"
  },
  "language_info": {
   "codemirror_mode": {
    "name": "ipython",
    "version": 3
   },
   "file_extension": ".py",
   "mimetype": "text/x-python",
   "name": "python",
   "nbconvert_exporter": "python",
   "pygments_lexer": "ipython3",
   "version": "3.6.8"
  }
 },
 "nbformat": 4,
 "nbformat_minor": 1
}
